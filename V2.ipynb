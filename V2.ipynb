{
 "cells": [
  {
   "cell_type": "code",
   "execution_count": null,
   "metadata": {
    "colab": {
     "base_uri": "https://localhost:8080/"
    },
    "executionInfo": {
     "elapsed": 6887,
     "status": "ok",
     "timestamp": 1678895686292,
     "user": {
      "displayName": "Денис Фауч",
      "userId": "17825234106867911063"
     },
     "user_tz": -600
    },
    "id": "hcb36j8nupfl",
    "outputId": "70e6c420-703c-4cac-98e3-3d0bf25dfc68"
   },
   "outputs": [],
   "source": [
    "from google.colab import drive\n",
    "\n",
    "drive.mount('/content/gdrive/', force_remount=True)"
   ]
  },
  {
   "cell_type": "code",
   "execution_count": 2,
   "metadata": {
    "colab": {
     "base_uri": "https://localhost:8080/"
    },
    "executionInfo": {
     "elapsed": 12,
     "status": "ok",
     "timestamp": 1678895686294,
     "user": {
      "displayName": "Денис Фауч",
      "userId": "17825234106867911063"
     },
     "user_tz": -600
    },
    "id": "it70VP5mvq2n",
    "outputId": "9a020055-e145-4107-e2b2-66b12ff34480"
   },
   "outputs": [
    {
     "name": "stdout",
     "output_type": "stream",
     "text": [
      "/content/gdrive/MyDrive/СL_CuP\n"
     ]
    }
   ],
   "source": [
    "%cd /content/gdrive/MyDrive/СL_CuP"
   ]
  },
  {
   "cell_type": "code",
   "execution_count": 1,
   "metadata": {
    "colab": {
     "base_uri": "https://localhost:8080/"
    },
    "executionInfo": {
     "elapsed": 51882,
     "status": "ok",
     "timestamp": 1678895738169,
     "user": {
      "displayName": "Денис Фауч",
      "userId": "17825234106867911063"
     },
     "user_tz": -600
    },
    "id": "_esfIAZ2wqez",
    "outputId": "74bbefd9-d919-4166-bdff-1d9062e55b5d"
   },
   "outputs": [
    {
     "name": "stdout",
     "output_type": "stream",
     "text": [
      "Train samples: 440535\n",
      "Test samples: 70020\n",
      "<class 'pandas.core.frame.DataFrame'>\n",
      "RangeIndex: 440535 entries, 0 to 440534\n",
      "Data columns (total 3 columns):\n",
      " #   Column   Non-Null Count   Dtype \n",
      "---  ------   --------------   ----- \n",
      " 0   text     440535 non-null  object\n",
      " 1   comment  440535 non-null  object\n",
      " 2   score    440535 non-null  int64 \n",
      "dtypes: int64(1), object(2)\n",
      "memory usage: 10.1+ MB\n",
      "None\n",
      "<class 'pandas.core.frame.DataFrame'>\n",
      "RangeIndex: 70020 entries, 0 to 70019\n",
      "Data columns (total 3 columns):\n",
      " #   Column   Non-Null Count  Dtype \n",
      "---  ------   --------------  ----- \n",
      " 0   text     70020 non-null  object\n",
      " 1   comment  70020 non-null  object\n",
      " 2   score    0 non-null      object\n",
      "dtypes: object(3)\n",
      "memory usage: 1.6+ MB\n",
      "None\n",
      "               score\n",
      "count  440535.000000\n",
      "mean        2.000000\n",
      "std         1.414215\n",
      "min         0.000000\n",
      "25%         1.000000\n",
      "50%         2.000000\n",
      "75%         3.000000\n",
      "max         4.000000\n"
     ]
    }
   ],
   "source": [
    "import json\n",
    "import pandas as pd\n",
    "import matplotlib.pyplot as plt\n",
    "import seaborn as sns\n",
    "    \n",
    "with open('ranking_train.jsonl', 'r') as f:\n",
    "    train_data = list(f)\n",
    "\n",
    "with open('ranking_test.jsonl', 'r') as f:\n",
    "    test_data = list(f)\n",
    "    \n",
    "def parse_json_line(json_line):\n",
    "    json_data = json.loads(json_line)\n",
    "    text = json_data['text']\n",
    "    comments = json_data['comments']\n",
    "    comments_text = [comment['text'] for comment in comments]\n",
    "    comments_score = [comment['score'] for comment in comments]\n",
    "    return pd.DataFrame({'text': [text]*5, 'comment': comments_text, 'score': comments_score})\n",
    "\n",
    "train_df = pd.concat([parse_json_line(line) for line in train_data], ignore_index=True)\n",
    "test_df = pd.concat([parse_json_line(line) for line in test_data], ignore_index=True)\n",
    "# Размер обучающей и тестовой выборок\n",
    "print(f\"Train samples: {len(train_df)}\")\n",
    "print(f\"Test samples: {len(test_df)}\")\n",
    "\n",
    "# Общая информация по датафреймам\n",
    "print(train_df.info())\n",
    "print(test_df.info())\n",
    "\n",
    "# Статистические характеристики данных\n",
    "print(train_df.describe())"
   ]
  },
  {
   "cell_type": "code",
   "execution_count": 4,
   "metadata": {
    "colab": {
     "base_uri": "https://localhost:8080/",
     "height": 295
    },
    "executionInfo": {
     "elapsed": 15,
     "status": "ok",
     "timestamp": 1678895738170,
     "user": {
      "displayName": "Денис Фауч",
      "userId": "17825234106867911063"
     },
     "user_tz": -600
    },
    "id": "IFG5MiBUxDs0",
    "outputId": "0cdd1399-be3c-43d2-c88b-d01be66ad21d"
   },
   "outputs": [
    {
     "data": {
      "image/png": "[encoded data removed]",
      "text/plain": [
       "<Figure size 432x288 with 1 Axes>"
      ]
     },
     "metadata": {
      "needs_background": "light"
     },
     "output_type": "display_data"
    }
   ],
   "source": [
    "# Гистограмма распределения оценок комментариев\n",
    "sns.countplot(x='score', data=train_df)\n",
    "plt.title('Score distribution')\n",
    "plt.show()"
   ]
  },
  {
   "cell_type": "code",
   "execution_count": 2,
   "metadata": {
    "executionInfo": {
     "elapsed": 13,
     "status": "ok",
     "timestamp": 1678895738171,
     "user": {
      "displayName": "Денис Фауч",
      "userId": "17825234106867911063"
     },
     "user_tz": -600
    },
    "id": "SAiQd-TBxLUZ"
   },
   "outputs": [],
   "source": [
    "import os\n",
    "def install_java():\n",
    "  !apt-get install -y openjdk-8-jdk-headless -qq > /dev/null\n",
    "  os.environ[\"JAVA_HOME\"] = \"/usr/lib/jvm/java-8-openjdk-amd64\"\n",
    "  !java -version"
   ]
  },
  {
   "cell_type": "code",
   "execution_count": 3,
   "metadata": {
    "executionInfo": {
     "elapsed": 52718,
     "status": "ok",
     "timestamp": 1678895790876,
     "user": {
      "displayName": "Денис Фауч",
      "userId": "17825234106867911063"
     },
     "user_tz": -600
    },
    "id": "L7Xi7nprxM0e"
   },
   "outputs": [],
   "source": [
    "%%capture installation.log\n",
    "%env LC_ALL=C.UTF-8\n",
    "%env LANG=C.UTF-8\n",
    "install_java()\n",
    "!pip install spacy\n",
    "!pip install language_tool_python\n",
    "!python -m spacy download en_core_web_sm\n",
    "!pip install transformers\n",
    "!pip install tqdm\n",
    "!pip install psutil\n",
    "!pip install Cython"
   ]
  },
  {
   "cell_type": "code",
   "execution_count": 5,
   "metadata": {},
   "outputs": [
    {
     "name": "stdout",
     "output_type": "stream",
     "text": [
      "Collecting tensorflow-hub\n",
      "  Downloading tensorflow_hub-0.13.0-py2.py3-none-any.whl (100 kB)\n",
      "     ------------------------------------ 100.6/100.6 kB 444.9 kB/s eta 0:00:00\n",
      "Requirement already satisfied: numpy>=1.12.0 in c:\\users\\user\\anaconda3\\lib\\site-packages (from tensorflow-hub) (1.21.5)\n",
      "Requirement already satisfied: protobuf>=3.19.6 in c:\\users\\user\\anaconda3\\lib\\site-packages (from tensorflow-hub) (3.19.6)\n",
      "Installing collected packages: tensorflow-hub\n",
      "Successfully installed tensorflow-hub-0.13.0\n"
     ]
    }
   ],
   "source": [
    "!pip install tensorflow-hub\n"
   ]
  },
  {
   "cell_type": "code",
   "execution_count": 53,
   "metadata": {
    "colab": {
     "base_uri": "https://localhost:8080/"
    },
    "executionInfo": {
     "elapsed": 12,
     "status": "ok",
     "timestamp": 1678895790877,
     "user": {
      "displayName": "Денис Фауч",
      "userId": "17825234106867911063"
     },
     "user_tz": -600
    },
    "id": "ojyihh9-KW1v",
    "outputId": "b3142684-37ea-4f65-b0d5-19d9b578404a"
   },
   "outputs": [
    {
     "name": "stdout",
     "output_type": "stream",
     "text": [
      "8\n",
      "4231888896\n"
     ]
    }
   ],
   "source": [
    "import psutil\n",
    "print(psutil.cpu_count(logical=True))\n",
    "\n",
    "# Возвращает объект, содержащий информацию о памяти\n",
    "memory = psutil.virtual_memory()\n",
    "\n",
    "# Выводит доступную память в байтах\n",
    "print(memory.available)"
   ]
  },
  {
   "cell_type": "code",
   "execution_count": 54,
   "metadata": {},
   "outputs": [
    {
     "data": {
      "text/plain": [
       "25531"
      ]
     },
     "execution_count": 54,
     "metadata": {},
     "output_type": "execute_result"
    }
   ],
   "source": [
    "import gc\n",
    "\n",
    "# освобождает неиспользуемые объекты из памяти\n",
    "# del some_object\n",
    "gc.collect()\n"
   ]
  },
  {
   "cell_type": "code",
   "execution_count": 55,
   "metadata": {},
   "outputs": [
    {
     "name": "stdout",
     "output_type": "stream",
     "text": [
      "4230553600\n"
     ]
    }
   ],
   "source": [
    "memory = psutil.virtual_memory()\n",
    "\n",
    "# Выводит доступную память в байтах\n",
    "print(memory.available)"
   ]
  },
  {
   "cell_type": "code",
   "execution_count": 46,
   "metadata": {},
   "outputs": [
    {
     "name": "stdout",
     "output_type": "stream",
     "text": [
      "Collecting memory_profiler\n",
      "  Downloading memory_profiler-0.61.0-py3-none-any.whl (31 kB)\n",
      "Requirement already satisfied: psutil in c:\\users\\user\\anaconda3\\lib\\site-packages (from memory_profiler) (5.9.0)\n",
      "Installing collected packages: memory_profiler\n",
      "Successfully installed memory_profiler-0.61.0\n"
     ]
    }
   ],
   "source": [
    "!pip install memory_profiler\n",
    "from memory_profiler import profile"
   ]
  },
  {
   "cell_type": "code",
   "execution_count": 47,
   "metadata": {},
   "outputs": [],
   "source": [
    "from numba import jit"
   ]
  },
  {
   "cell_type": "code",
   "execution_count": 4,
   "metadata": {
    "colab": {
     "base_uri": "https://localhost:8080/"
    },
    "executionInfo": {
     "elapsed": 28454,
     "status": "ok",
     "timestamp": 1678896098617,
     "user": {
      "displayName": "Денис Фауч",
      "userId": "17825234106867911063"
     },
     "user_tz": -600
    },
    "id": "5F_YHooqJc0H",
    "outputId": "8078cc96-066f-4bf7-a73d-979357c15a56"
   },
   "outputs": [
    {
     "name": "stderr",
     "output_type": "stream",
     "text": [
      "[nltk_data] Downloading package vader_lexicon to\n",
      "[nltk_data]     C:\\Users\\user\\AppData\\Roaming\\nltk_data...\n",
      "[nltk_data]   Package vader_lexicon is already up-to-date!\n",
      "Some weights of the model checkpoint at distilbert-base-multilingual-cased were not used when initializing DistilBertModel: ['vocab_projector.weight', 'vocab_layer_norm.weight', 'vocab_layer_norm.bias', 'vocab_projector.bias', 'vocab_transform.weight', 'vocab_transform.bias']\n",
      "- This IS expected if you are initializing DistilBertModel from the checkpoint of a model trained on another task or with another architecture (e.g. initializing a BertForSequenceClassification model from a BertForPreTraining model).\n",
      "- This IS NOT expected if you are initializing DistilBertModel from the checkpoint of a model that you expect to be exactly identical (initializing a BertForSequenceClassification model from a BertForSequenceClassification model).\n"
     ]
    }
   ],
   "source": [
    "%%capture analyze_comments.log\n",
    "import re\n",
    "import csv\n",
    "import torch\n",
    "import string\n",
    "import numpy as np\n",
    "import spacy\n",
    "import tensorflow as tf\n",
    "import tensorflow_hub as hub\n",
    "import nltk\n",
    "import multiprocessing as mp\n",
    "import language_tool_python\n",
    "import concurrent.futures as futures\n",
    "from concurrent.futures import ProcessPoolExecutor, as_completed\n",
    "from functools import partial\n",
    "from tqdm import tqdm\n",
    "nltk.download('vader_lexicon')\n",
    "from nltk.sentiment.vader import SentimentIntensityAnalyzer\n",
    "from transformers import AutoModelForSequenceClassification, AutoModel, AutoTokenizer, TextClassificationPipeline\n",
    "from sklearn.metrics.pairwise import cosine_similarity\n",
    "from scipy.stats import rankdata\n",
    "\n",
    "\n",
    "# Load pre-trained models\n",
    "nlp = spacy.load('en_core_web_sm')\n",
    "use = hub.load(\"https://tfhub.dev/google/universal-sentence-encoder/4\")\n",
    "sia = SentimentIntensityAnalyzer()\n",
    "tool = language_tool_python.LanguageTool('en-US')\n",
    "\n",
    "# Initialize tokenizer and pipeline\n",
    "model_path = \"martin-ha/toxic-comment-model\"\n",
    "tokenizer = AutoTokenizer.from_pretrained(model_path)\n",
    "model = AutoModelForSequenceClassification.from_pretrained(model_path)\n",
    "pipeline = TextClassificationPipeline(model=model, tokenizer=tokenizer)\n",
    "tokenizer_d = AutoTokenizer.from_pretrained('distilbert-base-multilingual-cased')\n",
    "model_d = AutoModel.from_pretrained('distilbert-base-multilingual-cased')\n",
    "\n"
   ]
  },
  {
   "cell_type": "code",
   "execution_count": 59,
   "metadata": {},
   "outputs": [],
   "source": [
    "# def evaluate_toxicity(comment, max_length=512, stride=256):\n",
    "\n",
    "#     # Split comment into smaller segments\n",
    "#     segments = []\n",
    "#     if len(comment) > max_length:\n",
    "#         # Split comment into overlapping segments\n",
    "#         for i in range(0, len(comment), stride):\n",
    "#             segment = comment[i:i+max_length]\n",
    "#             # Force segment to be exactly 512 characters\n",
    "#             segment = segment[:512]\n",
    "#             segments.append(segment)\n",
    "#     else:\n",
    "#         segments.append(comment)\n",
    "\n",
    "#     # Calculate toxicity score for each segment\n",
    "#     toxicity_scores = []\n",
    "#     for segment in segments:\n",
    "#         input_ids = tokenizer.encode(segment, truncation=True, padding=True, return_tensors='pt')\n",
    "#         tokens = tokenizer.convert_ids_to_tokens(input_ids[0])\n",
    "#         text = tokenizer.convert_tokens_to_string(tokens)\n",
    "#         output = pipeline(text)\n",
    "#         toxicity_scores.append(output[0]['score'])\n",
    "    \n",
    "#     # Average toxicity scores across segments\n",
    "#     toxicity_score = np.mean(toxicity_scores)\n",
    "\n",
    "#     return toxicity_score\n",
    "\n",
    "# def compute_use_vectors(text, model, tokenizer, max_length=512, stride=256):\n",
    "#     # Split input sequence into smaller segments\n",
    "#     segments = []\n",
    "#     if len(text) > max_length:\n",
    "#         # Split text into overlapping segments\n",
    "#         for i in range(0, len(text), stride):\n",
    "#             segment = text[i:i+max_length]\n",
    "#             # Force segment to be exactly 512 characters\n",
    "#             segment = segment[:512]\n",
    "#             segments.append(segment)\n",
    "#     else:\n",
    "#         segments.append(text)\n",
    "\n",
    "#     # Compute embeddings for each segment\n",
    "#     batch_size = 8\n",
    "#     embeddings = []\n",
    "#     for i in range(0, len(segments), batch_size):\n",
    "#         batch_segments = segments[i:i+batch_size]\n",
    "#         batch_input = tokenizer.batch_encode_plus(batch_segments, padding = True, truncation=True, return_tensors='pt')\n",
    "#         batch_embeddings = model(batch_input['input_ids'], batch_input['attention_mask'])\n",
    "#         last_hidden_state_tensor = batch_embeddings.last_hidden_state\n",
    "#         embeddings.append(last_hidden_state_tensor.detach().cpu().numpy())\n",
    "\n",
    "\n",
    "#     # Concatenate embeddings to obtain full vector representation, even if embeddings is empty\n",
    "#     if len(embeddings) > 0:\n",
    "#         embeddings = np.concatenate(embeddings, axis=0)\n",
    "#     else:\n",
    "#         embeddings = np.array([])\n",
    "\n",
    "#     return torch.tensor(np.stack(embeddings))\n",
    "\n",
    "@profile\n",
    "@jit(nopython=True)\n",
    "def analyze_comment(comment, post_text, score, sia):\n",
    "    # Find number of words\n",
    "    words = comment.split()\n",
    "    num_words = len(words)\n",
    "    \n",
    "    # Find number of unique words\n",
    "    unique_words = set(words)\n",
    "    num_unique_words = len(unique_words)\n",
    "    \n",
    "    # Find number of letters and punctuation marks\n",
    "    num_letters = sum([len(word) for word in words])\n",
    "    num_punctuation = sum([1 for char in comment if char in string.punctuation])\n",
    "    \n",
    "    # Find number of uppercase letters and words\n",
    "    num_uppercase_letters = sum([1 for char in comment if char.isupper()])\n",
    "    num_uppercase_words = sum([1 for word in words if word.isupper()])\n",
    "    \n",
    "    # Find number of stop words\n",
    "    # num_stop_words = len([word for word in nlp(comment) if word.is_stop])\n",
    "    num_stop_words = sum([word.is_stop for word in nlp(comment)])\n",
    "    \n",
    "    # Find average word length\n",
    "    if num_words > 0:\n",
    "        avg_word_length = num_letters / num_words\n",
    "    else:\n",
    "        avg_word_length = 0\n",
    "    \n",
    "    # Find number of sentences\n",
    "    # sentences = list(nlp(comment).sents)\n",
    "    # num_sentences = len(sentences)\n",
    "    num_sentences = sum(1 for _ in nlp(comment).sents)\n",
    "    \n",
    "    # Calculate sentiment score\n",
    "    sentiment_score = sia.polarity_scores(comment)['compound']\n",
    "    \n",
    "    # Compute embeddings for post and comment\n",
    "#     post_embedding = compute_use_vectors(post_text, model = model_d, tokenizer = tokenizer_d)[0]\n",
    "#     comment_embedding = compute_use_vectors(comment, model = model_d, tokenizer = tokenizer_d)[0]\n",
    "    \n",
    "    # # pad the shorter vector with zeros\n",
    "    # if comment_embedding.shape[1] > post_embedding.shape[1]:\n",
    "    #     pad_width = ((0, 0), (0, comment_embedding.shape[1]-post_embedding.shape[1]))\n",
    "    #     post_embedding = np.pad(post_embedding, pad_width, mode='constant')\n",
    "    # else:\n",
    "    #     pad_width = ((0, 0), (0, post_embedding.shape[1]-comment_embedding.shape[1]))\n",
    "    #     comment_embedding = np.pad(comment_embedding, pad_width, mode='constant')\n",
    "\n",
    "    # # compute cosine similarity\n",
    "    # similarity_score = cosine_similarity(comment_embedding, post_embedding)[0][0]\n",
    "\n",
    "    # Calculate toxicity score\n",
    "    # print(type(comment))\n",
    "    toxicity_score = evaluate_toxicity(comment, max_length=512, stride=256)\n",
    "    \n",
    "    return (post_text,\n",
    "            comment,\n",
    "            score,\n",
    "            num_words,\n",
    "            num_unique_words,\n",
    "            avg_word_length,\n",
    "            num_punctuation,\n",
    "            num_uppercase_letters,\n",
    "            num_uppercase_words,\n",
    "            num_stop_words,\n",
    "            num_sentences,\n",
    "            len(re.findall(r'\\d+', comment)), \n",
    "            len(re.findall(r'http\\S+', comment)), \n",
    "            len(re.findall(r'#\\w+', comment)), \n",
    "            len(re.findall(r'[^\\w\\s,]', comment)), \n",
    "            len(re.findall(r'\\b[A-Z]{2,}\\b', comment)), \n",
    "            len(tool.check(comment)),\n",
    "            comment.lower().count('Edit'), \n",
    "            sum([1 for word in comment.split() if not word.isascii()]), \n",
    "            num_punctuation / len(comment), \n",
    "            len([ent for ent in nlp(comment).ents if ent.label_ in ['PERSON', 'ORG', 'GPE']]), \n",
    "            sentiment_score, \n",
    "            # similarity_score, \n",
    "            toxicity_score)\n",
    "\n",
    "\n",
    "# def print_feature_statistics(result):\n",
    "#     feature_names = list(result.keys())\n",
    "#     feature_frequencies = [len(result[name]) for name in feature_names]\n",
    "#     feature_ranks = rankdata(feature_frequencies, method='dense')\n",
    "#     feature_rank_dict = {name: rank for name, rank in zip(feature_names, feature_ranks)}\n",
    "\n",
    "#     # Sort features by their ranks\n",
    "#     sorted_features = sorted(feature_rank_dict.items(), key=lambda x: x[1])\n",
    "\n",
    "#     # Print results\n",
    "#     for feature, rank in sorted_features:\n",
    "#         values = result[feature]\n",
    "#         if isinstance(values[0], np.ndarray):\n",
    "#             values = [list(v) for v in values]\n",
    "#         print(f\"{feature} (rank {rank}):\")\n",
    "#         print(f\"\\tMin: {np.min(values)}\")\n",
    "#         print(f\"\\tMax: {np.max(values)}\")\n",
    "#         print(f\"\\tMean: {np.mean(values)}\")\n",
    "#         print(f\"\\tMedian: {np.median(values)}\")\n",
    "#         print(f\"\\tStd: {np.std(values)}\")\n",
    "#         print(\"\")\n",
    "        \n",
    "# def convert_to_csv(result, filename):\n",
    "#     feature_names = list(result.keys())\n",
    "#     feature_frequencies = [len(result[name]) for name in feature_names]\n",
    "#     feature_ranks = rankdata(feature_frequencies, method='dense')\n",
    "#     feature_rank_dict = {name: rank for name, rank in zip(feature_names, feature_ranks)}\n",
    "\n",
    "#     # Sort features by their ranks\n",
    "#     sorted_features = sorted(feature_rank_dict.items(), key=lambda x: x[1])\n",
    "\n",
    "#     with open(filename, 'w', newline='') as file:\n",
    "#         writer = csv.writer(file)\n",
    "#         writer.writerow(['Feature', 'Rank', 'Min', 'Max', 'Mean', 'Median', 'Std'])\n",
    "#         for feature, rank in sorted_features:\n",
    "#             values = result[feature]\n",
    "#             if isinstance(values[0], np.ndarray):\n",
    "#                 values = [list(v) for v in values]\n",
    "#             writer.writerow([feature, rank, np.min(values), np.max(values), np.mean(values), np.median(values), np.std(values)])"
   ]
  },
  {
   "cell_type": "code",
   "execution_count": 60,
   "metadata": {},
   "outputs": [],
   "source": [
    "@profile\n",
    "def analyze_comments(df, sia):\n",
    "\n",
    "    # Create a partial function to compute USE vectors\n",
    "    # compute_use_vectors_partial = partial(compute_use_vectors, use=use)\n",
    "\n",
    "#     with ProcessPoolExecutor() as executor:\n",
    "#         # Analyze comments in parallel\n",
    "#         futures = [executor.submit(analyze_comment, row.comment, row.text, row.score) for row in df.itertuples()]\n",
    "\n",
    "#         # Wait for jobs to complete and process results\n",
    "#         for future in tqdm(as_completed(futures), total=len(futures)):\n",
    "#             results.append(future.result())\n",
    "\n",
    "#         print(\"Analysis completed successfully.\")\n",
    "\n",
    "# Create a preallocated NumPy array to store results\n",
    "    results = np.empty((len(df), 22), dtype=object)\n",
    "    \n",
    "    # Analyze comments in parallel\n",
    "    with futures.ProcessPoolExecutor(max_workers=8) as executor:\n",
    "        futures_list = []\n",
    "        for i, row in tqdm(enumerate(df.itertuples()), total=len(df)):\n",
    "            comment = row.comment\n",
    "            post_text = row.text\n",
    "            score = row.score\n",
    "\n",
    "            # Submit job to executor\n",
    "            future = executor.submit(analyze_comment, comment, post_text, score, sia)\n",
    "\n",
    "            futures_list.append(future)\n",
    "\n",
    "        # Wait for all jobs to complete\n",
    "        results_list = []\n",
    "        for future in tqdm(futures.wait(futures_list)[0], total=len(futures_list)):\n",
    "            results_list.append(future.result())\n",
    "        results = np.vstack(results_list)\n",
    "\n",
    "    print(\"Analysis completed successfully.\") \n",
    "\n",
    "#     # Analyze comments in parallel\n",
    "#     with futures.ThreadPoolExecutor(max_workers=6) as executor:\n",
    "#         for i, row in tqdm(enumerate(df.itertuples()), total=len(df)):\n",
    "#             comment = row.comment\n",
    "#             post_text = row.text\n",
    "#             score = row.score\n",
    "\n",
    "#             # Submit job to executor\n",
    "#             future = executor.submit(analyze_comment, comment, post_text, score)\n",
    "\n",
    "#             # Store result in preallocated NumPy array\n",
    "#             results[i, :] = future.result()\n",
    "#         print(\"Analysis completed successfully.\")\n",
    "    # Analyze comments in parallel\n",
    "    # for row in tqdm(df.itertuples()):\n",
    "    #     comment = row.comment\n",
    "    #     post_text = row.text\n",
    "    #     score = row.score\n",
    "\n",
    "    #     # Submit job to pool\n",
    "    #     job = pool.apply_async(analyze_comment, (comment, post_text, score), callback=results.append)\n",
    "    #     print(\"Analysis completed successfully.\")\n",
    "    # # Close pool and wait for all jobs to complete\n",
    "    # pool.close()\n",
    "    # pool.join()\n",
    "\n",
    "    # Convert results to a pandas DataFrame\n",
    "    result_df = pd.DataFrame(results, columns=['text', 'comment', 'score', \n",
    "                                                'num_words', 'num_unique_words', 'avg_word_length',\n",
    "                                                'num_punctuation', 'num_uppercase_letters', 'num_uppercase_words',\n",
    "                                                'num_stop_words', 'num_sentences', 'numbers',\n",
    "                                                'links', 'hashtags', 'emojis', 'capslock', 'errors', 'Edit', \n",
    "                                                'non_english_words', 'punctuation_freq', 'mentions','toxicity'])\n",
    "\n",
    "    return result_df"
   ]
  },
  {
   "cell_type": "code",
   "execution_count": null,
   "metadata": {
    "id": "gjmpuKej90lJ"
   },
   "outputs": [
    {
     "name": "stdout",
     "output_type": "stream",
     "text": [
      "ERROR: Could not find file C:\\Users\\user\\AppData\\Local\\Temp\\ipykernel_23140\\165674498.py\n"
     ]
    },
    {
     "name": "stderr",
     "output_type": "stream",
     "text": [
      "  0%|                                                                           | 355/440535 [00:00<05:52, 1250.15it/s]\n"
     ]
    }
   ],
   "source": [
    "train_df_analyzed = analyze_comments(train_df, sia)\n",
    "train_df_analyzed"
   ]
  },
  {
   "cell_type": "code",
   "execution_count": null,
   "metadata": {
    "executionInfo": {
     "elapsed": 7,
     "status": "aborted",
     "timestamp": 1678895993256,
     "user": {
      "displayName": "Денис Фауч",
      "userId": "17825234106867911063"
     },
     "user_tz": -600
    },
    "id": "SuT-znYo9YLD"
   },
   "outputs": [],
   "source": [
    "tf.identity"
   ]
  }
 ],
 "metadata": {
  "accelerator": "GPU",
  "colab": {
   "authorship_tag": "ABX9TyNgV/iu+Osbu/83lr0L3Jef",
   "provenance": []
  },
  "gpuClass": "standard",
  "kernelspec": {
   "display_name": "Python 3 (ipykernel)",
   "language": "python",
   "name": "python3"
  },
  "language_info": {
   "codemirror_mode": {
    "name": "ipython",
    "version": 3
   },
   "file_extension": ".py",
   "mimetype": "text/x-python",
   "name": "python",
   "nbconvert_exporter": "python",
   "pygments_lexer": "ipython3",
   "version": "3.9.13"
  }
 },
 "nbformat": 4,
 "nbformat_minor": 1
}
